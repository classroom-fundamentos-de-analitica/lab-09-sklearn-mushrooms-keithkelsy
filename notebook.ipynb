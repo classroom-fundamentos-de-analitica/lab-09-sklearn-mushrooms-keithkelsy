{
 "cells": [
  {
   "cell_type": "code",
   "execution_count": 2,
   "metadata": {},
   "outputs": [
    {
     "name": "stdout",
     "output_type": "stream",
     "text": [
      "Precisión en el conjunto de entrenamiento: 1.00\n",
      "Precisión en el conjunto de prueba: 1.00\n"
     ]
    }
   ],
   "source": [
    "import pandas as pd\n",
    "from sklearn.model_selection import train_test_split\n",
    "from sklearn.preprocessing import OneHotEncoder\n",
    "from sklearn.ensemble import RandomForestClassifier\n",
    "from sklearn.metrics import accuracy_score\n",
    "import pickle\n",
    "\n",
    "# Cargar los datasets\n",
    "train_data = pd.read_csv('train_dataset.csv')\n",
    "test_data = pd.read_csv('test_dataset.csv')\n",
    "\n",
    "# Separar características y etiquetas\n",
    "X_train = train_data.drop('type', axis=1)\n",
    "y_train = train_data['type']\n",
    "X_test = test_data.drop('type', axis=1)\n",
    "y_test = test_data['type']\n",
    "\n",
    "# Convertir variables categóricas en variables numéricas con OneHotEncoder\n",
    "encoder = OneHotEncoder()\n",
    "X_train_encoded = encoder.fit_transform(X_train)\n",
    "X_test_encoded = encoder.transform(X_test)\n",
    "\n",
    "# Crear y entrenar el modelo\n",
    "model = RandomForestClassifier(n_estimators=100, random_state=42)\n",
    "model.fit(X_train_encoded, y_train)\n",
    "\n",
    "# Evaluar precisión en el conjunto de entrenamiento\n",
    "y_train_pred = model.predict(X_train_encoded)\n",
    "train_accuracy = accuracy_score(y_train, y_train_pred)\n",
    "print(f'Precisión en el conjunto de entrenamiento: {train_accuracy:.2f}')\n",
    "\n",
    "# Evaluar precisión en el conjunto de prueba\n",
    "y_test_pred = model.predict(X_test_encoded)\n",
    "test_accuracy = accuracy_score(y_test, y_test_pred)\n",
    "print(f'Precisión en el conjunto de prueba: {test_accuracy:.2f}')\n",
    "\n",
    "# Guardar el modelo entrenado usando pickle\n",
    "with open('model.pkl', 'wb') as file:\n",
    "    pickle.dump(model, file)"
   ]
  }
 ],
 "metadata": {
  "kernelspec": {
   "display_name": "Python 3",
   "language": "python",
   "name": "python3"
  },
  "language_info": {
   "codemirror_mode": {
    "name": "ipython",
    "version": 3
   },
   "file_extension": ".py",
   "mimetype": "text/x-python",
   "name": "python",
   "nbconvert_exporter": "python",
   "pygments_lexer": "ipython3",
   "version": "3.10.0"
  }
 },
 "nbformat": 4,
 "nbformat_minor": 2
}
